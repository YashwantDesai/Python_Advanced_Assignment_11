{
 "cells": [
  {
   "cell_type": "markdown",
   "id": "0c27a818",
   "metadata": {},
   "source": [
    "# Yashwant Desai –  Python_Advanced_Assignment_11"
   ]
  },
  {
   "cell_type": "markdown",
   "id": "6be58800",
   "metadata": {},
   "source": [
    "# Q1. What is the concept of a metaclass?"
   ]
  },
  {
   "cell_type": "markdown",
   "id": "1f2981f4",
   "metadata": {},
   "source": [
    "A metaclass in Python is a class for classes. It defines how classes should behave, allowing you to customize class creation, attributes, and methods. It's a powerful but advanced feature primarily used for enforcing coding standards or adding specific behaviors to classes."
   ]
  },
  {
   "cell_type": "code",
   "execution_count": 4,
   "id": "73c36aae",
   "metadata": {},
   "outputs": [],
   "source": [
    "class MyMeta(type):\n",
    "    def __init__(cls, name, bases, attrs):\n",
    "        super().__init__(name, bases, attrs)\n",
    "class MyClass(metaclass=MyMeta):\n",
    "    some_attribute = 42\n",
    "    def some_method(self):\n",
    "        pass"
   ]
  },
  {
   "cell_type": "markdown",
   "id": "cfe28668",
   "metadata": {},
   "source": [
    "# Q2. What is the best way to declare a class's metaclass?"
   ]
  },
  {
   "cell_type": "markdown",
   "id": "eba9157b",
   "metadata": {},
   "source": [
    "There are a few ways to declare a class's metaclass, but the most commonly used and recommended way is to specify the metaclass using the metaclass keyword argument when defining the class"
   ]
  },
  {
   "cell_type": "code",
   "execution_count": 7,
   "id": "7a6e296f",
   "metadata": {},
   "outputs": [
    {
     "name": "stdout",
     "output_type": "stream",
     "text": [
      "This is a class-level attribute.\n",
      "Hello! My value is 888\n"
     ]
    }
   ],
   "source": [
    "# Define a custom metaclass\n",
    "class MyMeta(type):\n",
    "    def __init__(cls, name, bases, attrs):\n",
    "        # Add a class-level attribute\n",
    "        cls.class_attr = \"This is a class-level attribute.\"\n",
    "\n",
    "        # Call the parent class's __init__ method\n",
    "        super().__init__(name, bases, attrs)\n",
    "\n",
    "# Create a class using the custom metaclass\n",
    "class MyClass(metaclass=MyMeta):\n",
    "    def __init__(self, value):\n",
    "        self.value = value\n",
    "\n",
    "    def greet(self):\n",
    "        print(f\"Hello! My value is {self.value}\")\n",
    "\n",
    "# Usage\n",
    "obj = MyClass(888)\n",
    "\n",
    "# Access the class-level attribute\n",
    "print(MyClass.class_attr)  # Output: This is a class-level attribute.\n",
    "\n",
    "# Call a method\n",
    "obj.greet()"
   ]
  },
  {
   "cell_type": "markdown",
   "id": "c4311d5a",
   "metadata": {},
   "source": [
    "# Q3. How do class decorators overlap with metaclasses for handling classes?"
   ]
  },
  {
   "cell_type": "markdown",
   "id": "631cb614",
   "metadata": {},
   "source": [
    "Class decorators modify instances of classes and are applied using the @decorator syntax before class definitions. They focus on customizing object behavior.\n",
    "\n",
    "Metaclasses modify classes themselves during their creation and are defined by creating a custom metaclass. They affect class-level attributes, methods, and structures, impacting all instances of those classes.\n",
    "\n",
    "Choose class decorators when you want to customize object behavior, and use metaclasses when you need to enforce class-level attributes, methods, or structures across multiple classes."
   ]
  },
  {
   "cell_type": "code",
   "execution_count": 8,
   "id": "36db875d",
   "metadata": {},
   "outputs": [
    {
     "name": "stdout",
     "output_type": "stream",
     "text": [
      "This is a new method.\n"
     ]
    }
   ],
   "source": [
    "def my_decorator(cls):\n",
    "    class DecoratedClass(cls):\n",
    "        def new_method(self):\n",
    "            print(\"This is a new method.\")\n",
    "    return DecoratedClass\n",
    "\n",
    "@my_decorator\n",
    "class MyClass:\n",
    "    def existing_method(self):\n",
    "        print(\"This is an existing method.\")\n",
    "\n",
    "obj = MyClass()\n",
    "obj.new_method()"
   ]
  },
  {
   "cell_type": "code",
   "execution_count": 10,
   "id": "b3620ae9",
   "metadata": {},
   "outputs": [
    {
     "name": "stdout",
     "output_type": "stream",
     "text": [
      "This is a class-level attribute.\n",
      "Hello! My value is 888\n"
     ]
    }
   ],
   "source": [
    "# Define a custom metaclass\n",
    "class MyMeta(type):\n",
    "    def __init__(cls, name, bases, attrs):\n",
    "        # Add a class-level attribute\n",
    "        cls.class_attr = \"This is a class-level attribute.\"\n",
    "\n",
    "        # Call the parent class's __init__ method\n",
    "        super().__init__(name, bases, attrs)\n",
    "\n",
    "# Create a class using the custom metaclass\n",
    "class MyClass(metaclass=MyMeta):\n",
    "    def __init__(self, value):\n",
    "        self.value = value\n",
    "\n",
    "    def greet(self):\n",
    "        print(f\"Hello! My value is {self.value}\")\n",
    "\n",
    "# Usage\n",
    "obj = MyClass(888)\n",
    "\n",
    "# Access the class-level attribute\n",
    "print(MyClass.class_attr)  # Output: This is a class-level attribute.\n",
    "\n",
    "# Call a method\n",
    "obj.greet()"
   ]
  },
  {
   "cell_type": "markdown",
   "id": "1038004e",
   "metadata": {},
   "source": [
    "# Q4. How do class decorators overlap with metaclasses for handling instances?"
   ]
  },
  {
   "cell_type": "raw",
   "id": "a3832e0f",
   "metadata": {},
   "source": [
    "Class decorators are used to modify the behavior or attributes of individual instances of classes.\n",
    "\n",
    "Metaclasses are used to customize the structure and behavior of classes themselves during their creation.\n",
    "\n",
    "Class decorators and metaclasses do not directly overlap in terms of handling instances; they serve distinct purposes within the Python programming language."
   ]
  },
  {
   "cell_type": "code",
   "execution_count": 12,
   "id": "9afea85d",
   "metadata": {},
   "outputs": [
    {
     "name": "stdout",
     "output_type": "stream",
     "text": [
      "yash\n",
      "21\n",
      "Hello, my name is yash and I am 31 years old.\n",
      "Hello, my name is shyam and I am 21 years old.\n",
      "Homo sapiens\n"
     ]
    }
   ],
   "source": [
    "# Define a basic class\n",
    "class Person:\n",
    "    # Class attribute\n",
    "    species = \"Homo sapiens\"\n",
    "\n",
    "    # Constructor (initializer) method\n",
    "    def __init__(self, name, age):\n",
    "        # Instance attributes\n",
    "        self.name = name\n",
    "        self.age = age\n",
    "\n",
    "    # Instance method\n",
    "    def greet(self):\n",
    "        return f\"Hello, my name is {self.name} and I am {self.age} years old.\"\n",
    "\n",
    "# Create instances of the Person class\n",
    "person1 = Person(\"yash\", 31)\n",
    "person2 = Person(\"shyam\", 21)\n",
    "\n",
    "# Accessing instance attributes and calling methods\n",
    "print(person1.name)      \n",
    "print(person2.age)       \n",
    "print(person1.greet())   \n",
    "print(person2.greet())   \n",
    "\n",
    "# Accessing class attribute\n",
    "print(Person.species)    "
   ]
  },
  {
   "cell_type": "markdown",
   "id": "a04469f9",
   "metadata": {},
   "source": [
    "# Done Regards,Yashwant"
   ]
  }
 ],
 "metadata": {
  "kernelspec": {
   "display_name": "Python 3 (ipykernel)",
   "language": "python",
   "name": "python3"
  },
  "language_info": {
   "codemirror_mode": {
    "name": "ipython",
    "version": 3
   },
   "file_extension": ".py",
   "mimetype": "text/x-python",
   "name": "python",
   "nbconvert_exporter": "python",
   "pygments_lexer": "ipython3",
   "version": "3.9.13"
  }
 },
 "nbformat": 4,
 "nbformat_minor": 5
}
